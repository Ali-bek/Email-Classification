{
 "cells": [
  {
   "cell_type": "code",
   "execution_count": 1,
   "id": "c31ee57a",
   "metadata": {},
   "outputs": [],
   "source": [
    "import string\n",
    "import re"
   ]
  },
  {
   "cell_type": "code",
   "execution_count": 2,
   "id": "2d988fb9",
   "metadata": {},
   "outputs": [],
   "source": [
    "from nltk.stem import PorterStemmer"
   ]
  },
  {
   "cell_type": "code",
   "execution_count": 3,
   "id": "4147c005",
   "metadata": {},
   "outputs": [],
   "source": [
    "from nltk.stem import WordNetLemmatizer\n",
    "from nltk.corpus import stopwords"
   ]
  },
  {
   "cell_type": "code",
   "execution_count": 4,
   "id": "429d3859",
   "metadata": {},
   "outputs": [],
   "source": [
    "from bs4 import BeautifulSoup"
   ]
  },
  {
   "cell_type": "code",
   "execution_count": 5,
   "id": "cd8507b2",
   "metadata": {},
   "outputs": [],
   "source": [
    "import os\n",
    "import numpy as np\n",
    "import email\n",
    "\n",
    "easy_ham_path = 'email/easy_ham/easy_ham/'\n",
    "hard_ham_path = 'email/hard_ham/hard_ham/'\n",
    "spam_path = 'email/spam_2/spam_2/'"
   ]
  },
  {
   "cell_type": "code",
   "execution_count": 6,
   "id": "750df2be",
   "metadata": {},
   "outputs": [],
   "source": [
    "def get_data(path):\n",
    "    data = []\n",
    "    files = os.listdir(path)\n",
    "    for file in files:\n",
    "        f = open(path+file, encoding = \"ISO-8859-1\")\n",
    "        words_list = f.read()\n",
    "        data.append(words_list)\n",
    "        f.close()\n",
    "    return data"
   ]
  },
  {
   "cell_type": "code",
   "execution_count": 7,
   "id": "be2502d8",
   "metadata": {},
   "outputs": [],
   "source": [
    "# recuperation de l'ensemble de donnee\n",
    "easy_ham = get_data(easy_ham_path)\n",
    "hard_ham = get_data(hard_ham_path)\n",
    "ham = easy_ham + hard_ham\n",
    "spam = get_data(spam_path)"
   ]
  },
  {
   "cell_type": "code",
   "execution_count": 8,
   "id": "42cbb2e8",
   "metadata": {},
   "outputs": [],
   "source": [
    "np.random.shuffle(ham) # melanger les ham\n",
    "np.random.shuffle(spam) # melanger les spam"
   ]
  },
  {
   "cell_type": "code",
   "execution_count": 9,
   "id": "f92cdacb",
   "metadata": {},
   "outputs": [],
   "source": [
    "stemmer = PorterStemmer()\n",
    "\n",
    "def nettoyage(X):\n",
    "    b = email.message_from_string(X)\n",
    "    body = \"\"\n",
    "\n",
    "    if b.is_multipart():\n",
    "        for part in b.walk():\n",
    "            ctype = part.get_content_type()\n",
    "            cdispo = str(part.get('Content-Disposition'))\n",
    "                    # ignorer tout text/plain\n",
    "            if ctype == 'text/plain' and 'attachment' not in cdispo:\n",
    "                body = part.get_payload(decode=True)  # recuperer le corp de l'email\n",
    "                break\n",
    "        # si non multipart\n",
    "    else:\n",
    "        body = b.get_payload(decode=True) # recuperer le corp de l'email\n",
    "\n",
    "    soup = BeautifulSoup(body, \"html.parser\") #enlever les balises html\n",
    "    text = soup.get_text().lower() # mettre au minuscule\n",
    "\n",
    "    text = re.sub(r'(https|http)?:\\/\\/(\\w|\\.|\\/|\\?|\\=|\\&|\\%)*\\b', 'httpaddr', text, flags=re.MULTILINE) #normalisation des liens\n",
    "\n",
    "    text = re.sub(r'\\b[A-Za-z0-9._%+-]+@[A-Za-z0-9.-]+\\.[A-Z|a-z]{2,}\\b', 'emailaddr', text, flags=re.MULTILINE) #normalisation adresses email\n",
    "\n",
    "    text = re.sub(r'[0-9]+', 'number', text, flags=re.MULTILINE) # remplacer tout les nombres[0-9] par le mot number \n",
    "    \n",
    "    text = re.sub(r'[$]+', 'dollar', text, flags=re.MULTILINE) # remplacer tout les $ par dollar\n",
    "    \n",
    "    text = text.translate(str.maketrans('', '', string.punctuation)) # enlever les ponctuation\n",
    "    \n",
    "    text = text.translate(str.maketrans('', '', '\\n')) # enlever les retours de lignes\n",
    "\n",
    "    stop_words = stopwords.words('english')\n",
    "    words_list = [w for w in text.split() if w not in stop_words] # enlever les stop-words\n",
    "\n",
    "    words_list = [stemmer.stem(w) for w in words_list] #Stemming : radicalisation des mots\n",
    "    return words_list"
   ]
  },
  {
   "cell_type": "code",
   "execution_count": 10,
   "id": "9ee91bfa",
   "metadata": {},
   "outputs": [
    {
     "name": "stderr",
     "output_type": "stream",
     "text": [
      "c:\\users\\p\\appdata\\local\\programs\\python\\python39\\lib\\site-packages\\bs4\\__init__.py:435: MarkupResemblesLocatorWarning: The input looks more like a filename than markup. You may want to open this file and pass the filehandle into Beautiful Soup.\n",
      "  warnings.warn(\n",
      "Some characters could not be decoded, and were replaced with REPLACEMENT CHARACTER.\n",
      "c:\\users\\p\\appdata\\local\\programs\\python\\python39\\lib\\site-packages\\bs4\\__init__.py:404: MarkupResemblesLocatorWarning: The input looks more like a URL than markup. You may want to use an HTTP client like requests to get the document behind the URL, and feed that document to Beautiful Soup.\n",
      "  warnings.warn(\n",
      "Some characters could not be decoded, and were replaced with REPLACEMENT CHARACTER.\n",
      "Some characters could not be decoded, and were replaced with REPLACEMENT CHARACTER.\n",
      "Some characters could not be decoded, and were replaced with REPLACEMENT CHARACTER.\n"
     ]
    }
   ],
   "source": [
    "# transformation des spams :\n",
    "for i in range(len(spam)):\n",
    "    spam[i] = nettoyage(spam[i])\n",
    "\n",
    "# transformation des hams :\n",
    "for i in range(len(ham)):\n",
    "    ham[i] = nettoyage(ham[i])"
   ]
  },
  {
   "cell_type": "code",
   "execution_count": 11,
   "id": "8ab1ffbb",
   "metadata": {},
   "outputs": [
    {
     "data": {
      "text/plain": [
       "(24259,)"
      ]
     },
     "execution_count": 11,
     "metadata": {},
     "output_type": "execute_result"
    }
   ],
   "source": [
    "# charger la liste de vocabulaire\n",
    "vlist = np.genfromtxt('vocablist.txt', delimiter=',', dtype=str)\n",
    "vlist.shape"
   ]
  },
  {
   "cell_type": "markdown",
   "id": "922be8d1",
   "metadata": {},
   "source": [
    "# Extraction des caractéristiques :"
   ]
  },
  {
   "cell_type": "markdown",
   "id": "ae3b121a",
   "metadata": {},
   "source": [
    "1 - Extraction de caractéristiques de spam :"
   ]
  },
  {
   "cell_type": "code",
   "execution_count": 12,
   "id": "6580408c",
   "metadata": {},
   "outputs": [],
   "source": [
    "spam_vec = np.zeros((len(spam), len(vlist)))\n",
    "for i in range(len(spam)):\n",
    "    for j in range(len(spam[i])):\n",
    "        # verification si le mot existe en vocablist\n",
    "        if spam[i][j] in vlist:\n",
    "            idx, = np.where(vlist == spam[i][j])  # recherche l'indice du mot dans vocablist \n",
    "            spam_vec[i, idx] = spam[i].count(spam[i][j]) # Màj le nombre d'occurrence du mot\n",
    "            \n",
    "spam_y = np.ones((len(spam),1)) # ajout de l'etiquette : classe 1 (y=1)\n",
    "\n",
    "spam_data=np.column_stack((spam_vec,spam_y))"
   ]
  },
  {
   "cell_type": "markdown",
   "id": "e753d639",
   "metadata": {},
   "source": [
    "2 - Extraction de caractéristiques de ham :"
   ]
  },
  {
   "cell_type": "code",
   "execution_count": 13,
   "id": "671aafe4",
   "metadata": {},
   "outputs": [],
   "source": [
    "ham_vec = np.zeros((len(ham), len(vlist)))\n",
    "for i in range(len(ham)):\n",
    "    for j in range(len(ham[i])):\n",
    "        # verification si le mot existe en vocablist\n",
    "        if ham[i][j] in vlist:\n",
    "            idx, = np.where(vlist == ham[i][j])  # recherche l'indice du mot dans vocablist \n",
    "            ham_vec[i, idx] = ham[i].count(ham[i][j]) # Màj le nombre d'occurrence du mot\n",
    "            \n",
    "ham_y = np.zeros((len(ham), 1)) # ajout de l'etiquette : classe 0\n",
    "\n",
    "ham_data=np.column_stack((ham_vec,ham_y))"
   ]
  },
  {
   "cell_type": "markdown",
   "id": "4a53abcc",
   "metadata": {},
   "source": [
    "Assemblage des données :"
   ]
  },
  {
   "cell_type": "code",
   "execution_count": 14,
   "id": "a7584b5e",
   "metadata": {},
   "outputs": [
    {
     "data": {
      "text/plain": [
       "(4198, 24260)"
      ]
     },
     "execution_count": 14,
     "metadata": {},
     "output_type": "execute_result"
    }
   ],
   "source": [
    "data = np.vstack((spam_data, ham_data))\n",
    "data.shape"
   ]
  },
  {
   "cell_type": "code",
   "execution_count": 15,
   "id": "13048c40",
   "metadata": {},
   "outputs": [],
   "source": [
    "np.random.shuffle(data) # melange des données"
   ]
  },
  {
   "cell_type": "code",
   "execution_count": 16,
   "id": "7edf3ac8",
   "metadata": {},
   "outputs": [
    {
     "name": "stdout",
     "output_type": "stream",
     "text": [
      "(4198, 24260)\n",
      "(4198,)\n"
     ]
    }
   ],
   "source": [
    "intercept=np.ones((data.shape[0],1))\n",
    "X=np.column_stack((intercept,data[:, :len(vlist)])) # ajout du biais\n",
    "y = data[:, len(vlist)];\n",
    "print(X.shape)\n",
    "print(y.shape)"
   ]
  },
  {
   "cell_type": "code",
   "execution_count": 17,
   "id": "4233f9ee",
   "metadata": {},
   "outputs": [],
   "source": [
    "# répartition de l'ensemble de données en : ensemble d'entrainement et ensemble de teste\n",
    "from sklearn.model_selection import train_test_split\n",
    "Xt, Xtt, yt, ytt = train_test_split(X, y, random_state=0, test_size=0.3)"
   ]
  },
  {
   "cell_type": "markdown",
   "id": "b736bc13",
   "metadata": {},
   "source": [
    "# 1- Regression Logistique :"
   ]
  },
  {
   "cell_type": "code",
   "execution_count": 116,
   "id": "d088b43c",
   "metadata": {},
   "outputs": [],
   "source": [
    "# focntion calcule de cout\n",
    "def computeCost(X, y, theta):\n",
    "    return np.sum(np.power(predict(X, theta)-y, 2))/(2*X.shape[0])"
   ]
  },
  {
   "cell_type": "code",
   "execution_count": 32,
   "id": "0a14e744",
   "metadata": {},
   "outputs": [],
   "source": [
    "def Sigmoid(z):\n",
    "    return 1/(1+np.exp(-z));"
   ]
  },
  {
   "cell_type": "code",
   "execution_count": 54,
   "id": "32cc7cfa",
   "metadata": {},
   "outputs": [],
   "source": [
    "def gradientDescent(X, y, theta, alpha, iterations):\n",
    "    m = len(y)\n",
    "    # garder l'historique des valeurs de theta\n",
    "    historique_theta = np.zeros((iterations, theta.shape[0]))\n",
    "    \n",
    "    for it in range(iterations):\n",
    "        # calcul de la fonction hypothese\n",
    "        pred = np.dot(X, theta)\n",
    "        pred = Sigmoid(pred)\n",
    "        # mise a jour du vecteur theta\n",
    "        theta[0][0] = theta[0][0] - (1/m)*alpha*( (X[:, 0].T).dot((pred-y.reshape((m,1)))))\n",
    "        theta[1:] = theta[1:] - (1/m)*alpha*( (X[:, 1:].T).dot((pred-y.reshape((m,1)))))\n",
    "        \n",
    "        # enregistrement de la valeur  des theta\n",
    "        historique_theta[it, :] = theta.T\n",
    "    \n",
    "    return theta, historique_theta"
   ]
  },
  {
   "cell_type": "code",
   "execution_count": 57,
   "id": "05d671a7",
   "metadata": {},
   "outputs": [],
   "source": [
    "# fonction de prediction\n",
    "def predict(X, theta):\n",
    "    # initilisation du seuil :\n",
    "    seuil = 0.5\n",
    "    # calcul des predictions\n",
    "    h = np.dot(X, theta)\n",
    "    y_pred = Sigmoid(h)\n",
    "    \n",
    "    for i in range(len(h)):\n",
    "        if(y_pred[i] > seuil):\n",
    "            y_pred[i] = 1  # y_pred > seuil : produit est commerciable (classe 1)\n",
    "        else :\n",
    "            y_pred[i] = 0  # y_pred > seuil : produit n'est pas commerciable (classe 0)\n",
    "    \n",
    "    \n",
    "    return y_pred"
   ]
  },
  {
   "cell_type": "code",
   "execution_count": 34,
   "id": "4d41c8b4",
   "metadata": {},
   "outputs": [
    {
     "data": {
      "text/plain": [
       "(24260, 1)"
      ]
     },
     "execution_count": 34,
     "metadata": {},
     "output_type": "execute_result"
    }
   ],
   "source": [
    "# initialisation des theta\n",
    "n=X.shape[1]\n",
    "theta = np.zeros((n, 1))\n",
    "theta.shape"
   ]
  },
  {
   "cell_type": "code",
   "execution_count": null,
   "id": "1f58872a",
   "metadata": {},
   "outputs": [],
   "source": [
    "# paramètres\n",
    "iterations = 3000;\n",
    "alpha = 0.01;\n",
    "\n",
    "# Appel\n",
    "theta, historique_theta = gradientDescent(Xt, yt, theta, alpha, iterations);"
   ]
  },
  {
   "cell_type": "markdown",
   "id": "fc45ad33",
   "metadata": {},
   "source": [
    "Malheureusement, la descente de gradient prend énormement de temps pour trouver les paramètres theta optimaux. c'est pour cela qu'on s'est dirigé vers l'utilisation de librairie."
   ]
  },
  {
   "cell_type": "markdown",
   "id": "39f564aa",
   "metadata": {},
   "source": [
    "* utilisation de la librairie \"Sklearn\" :"
   ]
  },
  {
   "cell_type": "code",
   "execution_count": 99,
   "id": "d45fd7b3",
   "metadata": {},
   "outputs": [
    {
     "name": "stdout",
     "output_type": "stream",
     "text": [
      "precision du modele de Regression Logistique :\n",
      "97.14285714285714  %\n",
      "\n",
      "valeur de theta :\n",
      "[[0.00104866 0.00569031 0.48846367 ... 0.02551049 0.02551049 0.        ]]\n",
      "\n",
      "le biais :\n",
      "[0.81048437]\n"
     ]
    },
    {
     "name": "stderr",
     "output_type": "stream",
     "text": [
      "c:\\users\\p\\appdata\\local\\programs\\python\\python39\\lib\\site-packages\\sklearn\\linear_model\\_logistic.py:763: ConvergenceWarning: lbfgs failed to converge (status=1):\n",
      "STOP: TOTAL NO. of ITERATIONS REACHED LIMIT.\n",
      "\n",
      "Increase the number of iterations (max_iter) or scale the data as shown in:\n",
      "    https://scikit-learn.org/stable/modules/preprocessing.html\n",
      "Please also refer to the documentation for alternative solver options:\n",
      "    https://scikit-learn.org/stable/modules/linear_model.html#logistic-regression\n",
      "  n_iter_i = _check_optimize_result(\n"
     ]
    }
   ],
   "source": [
    "import sklearn.linear_model\n",
    "\n",
    "clf_rl = sklearn.linear_model.LogisticRegression()\n",
    "clf_rl.fit(Xt, yt.reshape((len(yt),))) # entrainement du modele\n",
    "\n",
    "print(\"precision du modele de Regression Logistique :\")\n",
    "print(clf_rl.score(Xtt, ytt.reshape((len(ytt),)))*100, \" %\")\n",
    "print(\"\\nvaleur de theta :\")\n",
    "print(clf_rl.coef_)\n",
    "print(\"\\nle biais :\")\n",
    "print(clf_rl.intercept_)"
   ]
  },
  {
   "cell_type": "code",
   "execution_count": 118,
   "id": "1e7715c6",
   "metadata": {},
   "outputs": [
    {
     "name": "stdout",
     "output_type": "stream",
     "text": [
      "le cout est de \n",
      "657.8669162695711\n"
     ]
    }
   ],
   "source": [
    "theta = clf_rl.coef_\n",
    "print(\"le cout est de :\")\n",
    "print(computeCost(Xt, yt, theta.T))"
   ]
  },
  {
   "cell_type": "code",
   "execution_count": 79,
   "id": "971302af",
   "metadata": {},
   "outputs": [
    {
     "data": {
      "text/plain": [
       "<sklearn.metrics._plot.confusion_matrix.ConfusionMatrixDisplay at 0x14b597742b0>"
      ]
     },
     "execution_count": 79,
     "metadata": {},
     "output_type": "execute_result"
    },
    {
     "data": {
      "image/png": "[encoded data removed]",
      "text/plain": [
       "<Figure size 432x288 with 2 Axes>"
      ]
     },
     "metadata": {
      "needs_background": "light"
     },
     "output_type": "display_data"
    }
   ],
   "source": [
    "#matrice confusion pour la regression logistique\n",
    "from sklearn.metrics import confusion_matrix\n",
    "from sklearn.metrics import ConfusionMatrixDisplay\n",
    "\n",
    "cm = confusion_matrix(ytt, clf.predict(Xtt))\n",
    "ConfusionMatrixDisplay(cm).plot()"
   ]
  },
  {
   "cell_type": "code",
   "execution_count": 75,
   "id": "2d8b94d0",
   "metadata": {},
   "outputs": [],
   "source": [
    "from sklearn.metrics import roc_curve\n",
    "import matplotlib.pyplot as plt\n",
    "\n",
    "# y_test : etiquette ensemble de test\n",
    "# y_pred : etiquette de l'ensemble prédit par le modèle\n",
    "def roc(y_test, y_pred):\n",
    "    \n",
    "    fpr = dict()\n",
    "    tpr = dict()\n",
    "    # la fonction roc_curve renvoi :\n",
    "    # - fpr : le taux du faux positif de la classe 1\n",
    "    # - tpr : le taux du vrai positif de la classe 1\n",
    "    \n",
    "    fpr_i, tpr_i, _ = roc_curve(y_test, y_pred)\n",
    "\n",
    "    # dessiner la courbe de roc de la classe i avec matplotlib\n",
    "    plt.plot(fpr_i, tpr_i, color='red', label='ROC')\n",
    "    plt.xlabel('Taux faux positif')\n",
    "    plt.ylabel('Taux vrai positif')\n",
    "    plt.title('courbe ROC')\n",
    "    plt.show()"
   ]
  },
  {
   "cell_type": "code",
   "execution_count": 76,
   "id": "162539c8",
   "metadata": {},
   "outputs": [
    {
     "data": {
      "image/png": "[encoded data removed]",
      "text/plain": [
       "<Figure size 432x288 with 1 Axes>"
      ]
     },
     "metadata": {
      "needs_background": "light"
     },
     "output_type": "display_data"
    }
   ],
   "source": [
    "roc(ytt, clf.predict(Xtt)) # courbe de ROC pour la regression logistique"
   ]
  },
  {
   "cell_type": "markdown",
   "id": "027156b6",
   "metadata": {},
   "source": [
    "# 2- SVM :"
   ]
  },
  {
   "cell_type": "code",
   "execution_count": 120,
   "id": "3f9da560",
   "metadata": {},
   "outputs": [
    {
     "name": "stdout",
     "output_type": "stream",
     "text": [
      "precision du modele SVM :\n",
      "96.82539682539682\n"
     ]
    }
   ],
   "source": [
    "from sklearn import svm\n",
    "\n",
    "lin_svc = svm.SVC(C=0.1, kernel='linear').fit(Xt, yt) # entrainement du modele\n",
    "\n",
    "y_pred_svm = lin_svc.predict(Xtt) # prediction sur l'ensemble de teste (Xtt)\n",
    "\n",
    "print(\"precision du modele SVM :\")\n",
    "print(lin_svc.score(Xtt, ytt.reshape((len(ytt),)))*100)\n"
   ]
  },
  {
   "cell_type": "code",
   "execution_count": 123,
   "id": "f15f8b45",
   "metadata": {},
   "outputs": [
    {
     "name": "stdout",
     "output_type": "stream",
     "text": [
      "le cout est de :\n",
      "650.139210347175\n"
     ]
    }
   ],
   "source": [
    "theta = lin_svc.coef_\n",
    "print(\"le cout est de :\")\n",
    "print(computeCost(Xt, yt, theta.T))"
   ]
  },
  {
   "cell_type": "code",
   "execution_count": 88,
   "id": "fb546b48",
   "metadata": {},
   "outputs": [
    {
     "data": {
      "text/plain": [
       "<sklearn.metrics._plot.confusion_matrix.ConfusionMatrixDisplay at 0x14b599bc850>"
      ]
     },
     "execution_count": 88,
     "metadata": {},
     "output_type": "execute_result"
    },
    {
     "data": {
      "image/png": "[encoded data removed]",
      "text/plain": [
       "<Figure size 432x288 with 2 Axes>"
      ]
     },
     "metadata": {
      "needs_background": "light"
     },
     "output_type": "display_data"
    }
   ],
   "source": [
    "# matrice de confusion pour le modele SVM\n",
    "\n",
    "cm_svm = confusion_matrix(ytt, y_pred_svm)\n",
    "ConfusionMatrixDisplay(cm_svm).plot()"
   ]
  },
  {
   "cell_type": "code",
   "execution_count": 89,
   "id": "a43146d6",
   "metadata": {},
   "outputs": [
    {
     "data": {
      "image/png": "[encoded data removed]",
      "text/plain": [
       "<Figure size 432x288 with 1 Axes>"
      ]
     },
     "metadata": {
      "needs_background": "light"
     },
     "output_type": "display_data"
    }
   ],
   "source": [
    "roc(ytt, y_pred_svm, 1) # courbe de ROC pour le modele SVM"
   ]
  },
  {
   "cell_type": "markdown",
   "id": "d4ef7425",
   "metadata": {},
   "source": [
    "# 3- Réseau de Neurone :"
   ]
  },
  {
   "cell_type": "code",
   "execution_count": 90,
   "id": "f3f4b674",
   "metadata": {},
   "outputs": [
    {
     "name": "stdout",
     "output_type": "stream",
     "text": [
      "\n",
      "valeur de la precision du modele RN :\n",
      "95.95238095238095\n"
     ]
    }
   ],
   "source": [
    "from sklearn.neural_network import MLPClassifier\n",
    "\n",
    "clf = MLPClassifier()\n",
    "clf.fit(Xt, yt) # entrainement du modele\n",
    "\n",
    "y_pred = clf.predict(Xtt) # prediction sur l'ensemble de teste (Xtt)\n",
    "\n",
    "precision = np.mean(ytt==y_pred)*100\n",
    "print(\"\\nvaleur de la precision du modele RN :\")\n",
    "print(precision)"
   ]
  },
  {
   "cell_type": "code",
   "execution_count": 122,
   "id": "f499bbc2",
   "metadata": {},
   "outputs": [
    {
     "name": "stdout",
     "output_type": "stream",
     "text": [
      "le cout du modele de RN est de :\n",
      "657.8669162695711\n"
     ]
    }
   ],
   "source": [
    "theta = clf.coef_\n",
    "print(\"le cout du modele de RN est de :\")\n",
    "print(computeCost(Xt, yt, theta.T))"
   ]
  },
  {
   "cell_type": "code",
   "execution_count": 92,
   "id": "2df687b5",
   "metadata": {},
   "outputs": [
    {
     "data": {
      "text/plain": [
       "<sklearn.metrics._plot.confusion_matrix.ConfusionMatrixDisplay at 0x14b599c2f70>"
      ]
     },
     "execution_count": 92,
     "metadata": {},
     "output_type": "execute_result"
    },
    {
     "data": {
      "image/png": "[encoded data removed]",
      "text/plain": [
       "<Figure size 432x288 with 2 Axes>"
      ]
     },
     "metadata": {
      "needs_background": "light"
     },
     "output_type": "display_data"
    }
   ],
   "source": [
    "# matrice de confusion pour le modele de RN\n",
    "cm_rn = confusion_matrix(ytt, y_pred)\n",
    "ConfusionMatrixDisplay(cm_rn).plot()"
   ]
  },
  {
   "cell_type": "code",
   "execution_count": 93,
   "id": "156c7dca",
   "metadata": {},
   "outputs": [
    {
     "data": {
      "image/png": "[encoded data removed]",
      "text/plain": [
       "<Figure size 432x288 with 1 Axes>"
      ]
     },
     "metadata": {
      "needs_background": "light"
     },
     "output_type": "display_data"
    }
   ],
   "source": [
    "roc(ytt, y_pred, 1) # courbe de ROC pour le modele RN"
   ]
  },
  {
   "cell_type": "code",
   "execution_count": 18,
   "id": "69238eeb",
   "metadata": {},
   "outputs": [
    {
     "name": "stdout",
     "output_type": "stream",
     "text": [
      "INFO:tensorflow:Enabling eager execution\n",
      "INFO:tensorflow:Enabling v2 tensorshape\n",
      "INFO:tensorflow:Enabling resource variables\n",
      "INFO:tensorflow:Enabling tensor equality\n",
      "INFO:tensorflow:Enabling control flow v2\n"
     ]
    },
    {
     "ename": "AttributeError",
     "evalue": "module 'tensorflow._api.v2.train' has no attribute 'AdamOptimizer'",
     "output_type": "error",
     "traceback": [
      "\u001b[1;31m---------------------------------------------------------------------------\u001b[0m",
      "\u001b[1;31mAttributeError\u001b[0m                            Traceback (most recent call last)",
      "\u001b[1;32m<ipython-input-18-10067ffec495>\u001b[0m in \u001b[0;36m<module>\u001b[1;34m\u001b[0m\n\u001b[0;32m     10\u001b[0m \u001b[0mmodel\u001b[0m\u001b[1;33m.\u001b[0m\u001b[0madd\u001b[0m\u001b[1;33m(\u001b[0m\u001b[0mkeras\u001b[0m\u001b[1;33m.\u001b[0m\u001b[0mlayers\u001b[0m\u001b[1;33m.\u001b[0m\u001b[0mDense\u001b[0m\u001b[1;33m(\u001b[0m\u001b[1;36m1\u001b[0m\u001b[1;33m,\u001b[0m \u001b[0mactivation\u001b[0m\u001b[1;33m=\u001b[0m\u001b[0mtf\u001b[0m\u001b[1;33m.\u001b[0m\u001b[0mnn\u001b[0m\u001b[1;33m.\u001b[0m\u001b[0msigmoid\u001b[0m\u001b[1;33m)\u001b[0m\u001b[1;33m)\u001b[0m\u001b[1;33m\u001b[0m\u001b[1;33m\u001b[0m\u001b[0m\n\u001b[0;32m     11\u001b[0m \u001b[1;33m\u001b[0m\u001b[0m\n\u001b[1;32m---> 12\u001b[1;33m \u001b[0mmodel\u001b[0m\u001b[1;33m.\u001b[0m\u001b[0mcompile\u001b[0m\u001b[1;33m(\u001b[0m\u001b[0moptimizer\u001b[0m\u001b[1;33m=\u001b[0m\u001b[0mtf\u001b[0m\u001b[1;33m.\u001b[0m\u001b[0mtrain\u001b[0m\u001b[1;33m.\u001b[0m\u001b[0mAdamOptimizer\u001b[0m\u001b[1;33m(\u001b[0m\u001b[1;33m)\u001b[0m\u001b[1;33m,\u001b[0m \u001b[0mloss\u001b[0m\u001b[1;33m=\u001b[0m\u001b[1;34m'binary_crossentropy'\u001b[0m\u001b[1;33m,\u001b[0m \u001b[0mmetrics\u001b[0m\u001b[1;33m=\u001b[0m\u001b[1;33m[\u001b[0m\u001b[1;34m'accuracy'\u001b[0m\u001b[1;33m]\u001b[0m\u001b[1;33m)\u001b[0m\u001b[1;33m\u001b[0m\u001b[1;33m\u001b[0m\u001b[0m\n\u001b[0m",
      "\u001b[1;31mAttributeError\u001b[0m: module 'tensorflow._api.v2.train' has no attribute 'AdamOptimizer'"
     ]
    }
   ],
   "source": [
    "import tensorflow as tf\n",
    "from tensorflow import keras\n",
    "\n",
    "#modeling\n",
    "model = keras.Sequential()\n",
    "model.add(keras.layers.Embedding(4096, 16))\n",
    "model.add(keras.layers.GlobalAveragePooling1D())\n",
    "model.add(keras.layers.Dense(16, activation=tf.nn.relu))\n",
    "model.add(keras.layers.Dense(16, activation=tf.nn.relu))\n",
    "model.add(keras.layers.Dense(1, activation=tf.nn.sigmoid))\n",
    "\n",
    "model.compile(optimizer=tf.train.AdamOptimizer(), loss='binary_crossentropy', metrics=['accuracy'])"
   ]
  },
  {
   "cell_type": "code",
   "execution_count": 19,
   "id": "4dbce54e",
   "metadata": {},
   "outputs": [],
   "source": [
    "model.compile(optimizer=\"Adam\", loss='binary_crossentropy', metrics=['accuracy'])"
   ]
  },
  {
   "cell_type": "code",
   "execution_count": 20,
   "id": "e7c83787",
   "metadata": {},
   "outputs": [
    {
     "name": "stdout",
     "output_type": "stream",
     "text": [
      "Epoch 1/300\n",
      "25/25 [==============================] - 9s 298ms/step - loss: 0.6869 - accuracy: 0.6537 - val_loss: 0.6715 - val_accuracy: 0.6560\n",
      "Epoch 2/300\n",
      "25/25 [==============================] - 7s 281ms/step - loss: 0.6636 - accuracy: 0.6676 - val_loss: 0.6506 - val_accuracy: 0.6560\n",
      "Epoch 3/300\n",
      "25/25 [==============================] - 7s 282ms/step - loss: 0.6454 - accuracy: 0.6609 - val_loss: 0.6436 - val_accuracy: 0.6560\n",
      "Epoch 4/300\n",
      "25/25 [==============================] - 7s 280ms/step - loss: 0.6359 - accuracy: 0.6681 - val_loss: 0.6440 - val_accuracy: 0.6560\n",
      "Epoch 5/300\n",
      "25/25 [==============================] - 7s 281ms/step - loss: 0.6349 - accuracy: 0.6690 - val_loss: 0.6437 - val_accuracy: 0.6560\n",
      "Epoch 6/300\n",
      "25/25 [==============================] - 7s 281ms/step - loss: 0.6366 - accuracy: 0.6665 - val_loss: 0.6436 - val_accuracy: 0.6560\n",
      "Epoch 7/300\n",
      "25/25 [==============================] - 7s 282ms/step - loss: 0.6411 - accuracy: 0.6598 - val_loss: 0.6436 - val_accuracy: 0.6560\n",
      "Epoch 8/300\n",
      "25/25 [==============================] - 7s 283ms/step - loss: 0.6328 - accuracy: 0.6721 - val_loss: 0.6436 - val_accuracy: 0.6560\n",
      "Epoch 9/300\n",
      "25/25 [==============================] - 7s 284ms/step - loss: 0.6388 - accuracy: 0.6631 - val_loss: 0.6435 - val_accuracy: 0.6560\n",
      "Epoch 10/300\n",
      "25/25 [==============================] - 7s 280ms/step - loss: 0.6416 - accuracy: 0.6589 - val_loss: 0.6435 - val_accuracy: 0.6560\n",
      "Epoch 11/300\n",
      "25/25 [==============================] - 7s 285ms/step - loss: 0.6380 - accuracy: 0.6642 - val_loss: 0.6436 - val_accuracy: 0.6560\n",
      "Epoch 12/300\n",
      "25/25 [==============================] - 7s 281ms/step - loss: 0.6311 - accuracy: 0.6741 - val_loss: 0.6435 - val_accuracy: 0.6560\n",
      "Epoch 13/300\n",
      "25/25 [==============================] - 7s 286ms/step - loss: 0.6410 - accuracy: 0.6601 - val_loss: 0.6432 - val_accuracy: 0.6560\n",
      "Epoch 14/300\n",
      "25/25 [==============================] - 7s 281ms/step - loss: 0.6318 - accuracy: 0.6735 - val_loss: 0.6435 - val_accuracy: 0.6560\n",
      "Epoch 15/300\n",
      "25/25 [==============================] - 7s 283ms/step - loss: 0.6310 - accuracy: 0.6743 - val_loss: 0.6434 - val_accuracy: 0.6560\n",
      "Epoch 16/300\n",
      "25/25 [==============================] - 7s 277ms/step - loss: 0.6431 - accuracy: 0.6570 - val_loss: 0.6432 - val_accuracy: 0.6560\n",
      "Epoch 17/300\n",
      "25/25 [==============================] - 7s 284ms/step - loss: 0.6357 - accuracy: 0.6675 - val_loss: 0.6433 - val_accuracy: 0.6560\n",
      "Epoch 18/300\n",
      "25/25 [==============================] - 7s 284ms/step - loss: 0.6366 - accuracy: 0.6658 - val_loss: 0.6435 - val_accuracy: 0.6560\n",
      "Epoch 19/300\n",
      "25/25 [==============================] - 7s 280ms/step - loss: 0.6316 - accuracy: 0.6731 - val_loss: 0.6431 - val_accuracy: 0.6560\n",
      "Epoch 20/300\n",
      "25/25 [==============================] - 7s 283ms/step - loss: 0.6312 - accuracy: 0.6740 - val_loss: 0.6433 - val_accuracy: 0.6560\n",
      "Epoch 21/300\n",
      "25/25 [==============================] - 7s 283ms/step - loss: 0.6344 - accuracy: 0.6690 - val_loss: 0.6431 - val_accuracy: 0.6560\n",
      "Epoch 22/300\n",
      "25/25 [==============================] - 7s 285ms/step - loss: 0.6305 - accuracy: 0.6749 - val_loss: 0.6433 - val_accuracy: 0.6560\n",
      "Epoch 23/300\n",
      "25/25 [==============================] - 7s 280ms/step - loss: 0.6374 - accuracy: 0.6648 - val_loss: 0.6430 - val_accuracy: 0.6560\n",
      "Epoch 24/300\n",
      "25/25 [==============================] - 7s 283ms/step - loss: 0.6359 - accuracy: 0.6670 - val_loss: 0.6430 - val_accuracy: 0.6560\n",
      "Epoch 25/300\n",
      "25/25 [==============================] - 7s 282ms/step - loss: 0.6372 - accuracy: 0.6648 - val_loss: 0.6430 - val_accuracy: 0.6560\n",
      "Epoch 26/300\n",
      "25/25 [==============================] - 7s 281ms/step - loss: 0.6420 - accuracy: 0.6581 - val_loss: 0.6431 - val_accuracy: 0.6560\n",
      "Epoch 27/300\n",
      "25/25 [==============================] - 7s 281ms/step - loss: 0.6430 - accuracy: 0.6564 - val_loss: 0.6431 - val_accuracy: 0.6560\n",
      "Epoch 28/300\n",
      "25/25 [==============================] - 7s 284ms/step - loss: 0.6325 - accuracy: 0.6718 - val_loss: 0.6429 - val_accuracy: 0.6560\n",
      "Epoch 29/300\n",
      "25/25 [==============================] - 7s 282ms/step - loss: 0.6253 - accuracy: 0.6821 - val_loss: 0.6430 - val_accuracy: 0.6560\n",
      "Epoch 30/300\n",
      "25/25 [==============================] - 7s 283ms/step - loss: 0.6429 - accuracy: 0.6565 - val_loss: 0.6427 - val_accuracy: 0.6560\n",
      "Epoch 31/300\n",
      "25/25 [==============================] - 7s 282ms/step - loss: 0.6399 - accuracy: 0.6606 - val_loss: 0.6429 - val_accuracy: 0.6560\n",
      "Epoch 32/300\n",
      "25/25 [==============================] - 7s 282ms/step - loss: 0.6374 - accuracy: 0.6643 - val_loss: 0.6431 - val_accuracy: 0.6560\n",
      "Epoch 33/300\n",
      "25/25 [==============================] - 7s 283ms/step - loss: 0.6354 - accuracy: 0.6675 - val_loss: 0.6429 - val_accuracy: 0.6560\n",
      "Epoch 34/300\n",
      "25/25 [==============================] - 7s 284ms/step - loss: 0.6338 - accuracy: 0.6697 - val_loss: 0.6428 - val_accuracy: 0.6560\n",
      "Epoch 35/300\n",
      "25/25 [==============================] - 7s 284ms/step - loss: 0.6397 - accuracy: 0.6610 - val_loss: 0.6425 - val_accuracy: 0.6560\n",
      "Epoch 36/300\n",
      "25/25 [==============================] - 8s 301ms/step - loss: 0.6403 - accuracy: 0.6596 - val_loss: 0.6428 - val_accuracy: 0.6560\n",
      "Epoch 37/300\n",
      "25/25 [==============================] - 7s 281ms/step - loss: 0.6434 - accuracy: 0.6558 - val_loss: 0.6426 - val_accuracy: 0.6560\n",
      "Epoch 38/300\n",
      "25/25 [==============================] - 7s 285ms/step - loss: 0.6372 - accuracy: 0.6645 - val_loss: 0.6426 - val_accuracy: 0.6560\n",
      "Epoch 39/300\n",
      "25/25 [==============================] - 7s 281ms/step - loss: 0.6402 - accuracy: 0.6602 - val_loss: 0.6426 - val_accuracy: 0.6560\n",
      "Epoch 40/300\n",
      "25/25 [==============================] - 7s 284ms/step - loss: 0.6388 - accuracy: 0.6621 - val_loss: 0.6425 - val_accuracy: 0.6560\n",
      "Epoch 41/300\n",
      "25/25 [==============================] - 7s 283ms/step - loss: 0.6380 - accuracy: 0.6629 - val_loss: 0.6423 - val_accuracy: 0.6560\n",
      "Epoch 42/300\n",
      "25/25 [==============================] - 7s 279ms/step - loss: 0.6282 - accuracy: 0.6774 - val_loss: 0.6425 - val_accuracy: 0.6560\n",
      "Epoch 43/300\n",
      "25/25 [==============================] - 7s 279ms/step - loss: 0.6398 - accuracy: 0.6604 - val_loss: 0.6422 - val_accuracy: 0.6560\n",
      "Epoch 44/300\n",
      "25/25 [==============================] - 7s 281ms/step - loss: 0.6377 - accuracy: 0.6630 - val_loss: 0.6424 - val_accuracy: 0.6560\n",
      "Epoch 45/300\n",
      "25/25 [==============================] - 7s 288ms/step - loss: 0.6358 - accuracy: 0.6666 - val_loss: 0.6422 - val_accuracy: 0.6560\n",
      "Epoch 46/300\n",
      "25/25 [==============================] - 7s 291ms/step - loss: 0.6356 - accuracy: 0.6661 - val_loss: 0.6420 - val_accuracy: 0.6560\n",
      "Epoch 47/300\n",
      "25/25 [==============================] - 7s 280ms/step - loss: 0.6377 - accuracy: 0.6630 - val_loss: 0.6419 - val_accuracy: 0.6560\n",
      "Epoch 48/300\n",
      "25/25 [==============================] - 7s 280ms/step - loss: 0.6358 - accuracy: 0.6658 - val_loss: 0.6421 - val_accuracy: 0.6560\n",
      "Epoch 49/300\n",
      "25/25 [==============================] - 7s 284ms/step - loss: 0.6383 - accuracy: 0.6629 - val_loss: 0.6420 - val_accuracy: 0.6560\n",
      "Epoch 50/300\n",
      "25/25 [==============================] - 7s 291ms/step - loss: 0.6411 - accuracy: 0.6580 - val_loss: 0.6419 - val_accuracy: 0.6560\n",
      "Epoch 51/300\n",
      "25/25 [==============================] - 7s 283ms/step - loss: 0.6361 - accuracy: 0.6650 - val_loss: 0.6419 - val_accuracy: 0.6560\n",
      "Epoch 52/300\n",
      "25/25 [==============================] - 7s 281ms/step - loss: 0.6400 - accuracy: 0.6595 - val_loss: 0.6417 - val_accuracy: 0.6560\n",
      "Epoch 53/300\n",
      "25/25 [==============================] - 7s 283ms/step - loss: 0.6332 - accuracy: 0.6689 - val_loss: 0.6418 - val_accuracy: 0.6560\n",
      "Epoch 54/300\n",
      "25/25 [==============================] - 7s 283ms/step - loss: 0.6404 - accuracy: 0.6592 - val_loss: 0.6416 - val_accuracy: 0.6560\n",
      "Epoch 55/300\n",
      "25/25 [==============================] - 7s 282ms/step - loss: 0.6315 - accuracy: 0.6713 - val_loss: 0.6415 - val_accuracy: 0.6560\n",
      "Epoch 56/300\n",
      "25/25 [==============================] - 7s 285ms/step - loss: 0.6310 - accuracy: 0.6716 - val_loss: 0.6414 - val_accuracy: 0.6560\n",
      "Epoch 57/300\n",
      "25/25 [==============================] - 7s 284ms/step - loss: 0.6420 - accuracy: 0.6572 - val_loss: 0.6416 - val_accuracy: 0.6560\n"
     ]
    },
    {
     "name": "stdout",
     "output_type": "stream",
     "text": [
      "Epoch 58/300\n",
      "25/25 [==============================] - 7s 292ms/step - loss: 0.6321 - accuracy: 0.6710 - val_loss: 0.6413 - val_accuracy: 0.6560\n",
      "Epoch 59/300\n",
      "25/25 [==============================] - 7s 287ms/step - loss: 0.6391 - accuracy: 0.6598 - val_loss: 0.6411 - val_accuracy: 0.6560\n",
      "Epoch 60/300\n",
      "25/25 [==============================] - 7s 282ms/step - loss: 0.6353 - accuracy: 0.6665 - val_loss: 0.6411 - val_accuracy: 0.6560\n",
      "Epoch 61/300\n",
      "25/25 [==============================] - 7s 289ms/step - loss: 0.6337 - accuracy: 0.6677 - val_loss: 0.6413 - val_accuracy: 0.6560\n",
      "Epoch 62/300\n",
      "25/25 [==============================] - 7s 291ms/step - loss: 0.6410 - accuracy: 0.6566 - val_loss: 0.6411 - val_accuracy: 0.6560\n",
      "Epoch 63/300\n",
      "25/25 [==============================] - 7s 297ms/step - loss: 0.6380 - accuracy: 0.6613 - val_loss: 0.6408 - val_accuracy: 0.6560\n",
      "Epoch 64/300\n",
      "25/25 [==============================] - 7s 288ms/step - loss: 0.6271 - accuracy: 0.6772 - val_loss: 0.6407 - val_accuracy: 0.6560\n",
      "Epoch 65/300\n",
      "25/25 [==============================] - 8s 305ms/step - loss: 0.6325 - accuracy: 0.6694 - val_loss: 0.6406 - val_accuracy: 0.6560\n",
      "Epoch 66/300\n",
      "25/25 [==============================] - 7s 282ms/step - loss: 0.6282 - accuracy: 0.6745 - val_loss: 0.6405 - val_accuracy: 0.6560\n",
      "Epoch 67/300\n",
      "25/25 [==============================] - 7s 289ms/step - loss: 0.6306 - accuracy: 0.6710 - val_loss: 0.6404 - val_accuracy: 0.6560\n",
      "Epoch 68/300\n",
      "25/25 [==============================] - 7s 288ms/step - loss: 0.6426 - accuracy: 0.6542 - val_loss: 0.6409 - val_accuracy: 0.6560\n",
      "Epoch 69/300\n",
      "25/25 [==============================] - 7s 287ms/step - loss: 0.6252 - accuracy: 0.6777 - val_loss: 0.6402 - val_accuracy: 0.6560\n",
      "Epoch 70/300\n",
      "25/25 [==============================] - 7s 287ms/step - loss: 0.6260 - accuracy: 0.6767 - val_loss: 0.6400 - val_accuracy: 0.6560\n",
      "Epoch 71/300\n",
      "25/25 [==============================] - 7s 288ms/step - loss: 0.6415 - accuracy: 0.6528 - val_loss: 0.6405 - val_accuracy: 0.6560\n",
      "Epoch 72/300\n",
      "25/25 [==============================] - 7s 287ms/step - loss: 0.6327 - accuracy: 0.6683 - val_loss: 0.6399 - val_accuracy: 0.6560\n",
      "Epoch 73/300\n",
      "25/25 [==============================] - 7s 290ms/step - loss: 0.6389 - accuracy: 0.6597 - val_loss: 0.6400 - val_accuracy: 0.6560\n",
      "Epoch 74/300\n",
      "25/25 [==============================] - 7s 288ms/step - loss: 0.6362 - accuracy: 0.6645 - val_loss: 0.6396 - val_accuracy: 0.6560\n",
      "Epoch 75/300\n",
      "25/25 [==============================] - 7s 287ms/step - loss: 0.6347 - accuracy: 0.6656 - val_loss: 0.6398 - val_accuracy: 0.6560\n",
      "Epoch 76/300\n",
      "25/25 [==============================] - 7s 282ms/step - loss: 0.6434 - accuracy: 0.6522 - val_loss: 0.6401 - val_accuracy: 0.6560\n",
      "Epoch 77/300\n",
      "25/25 [==============================] - 7s 285ms/step - loss: 0.6378 - accuracy: 0.6617 - val_loss: 0.6400 - val_accuracy: 0.6560\n",
      "Epoch 78/300\n",
      "25/25 [==============================] - 7s 289ms/step - loss: 0.6365 - accuracy: 0.6608 - val_loss: 0.6395 - val_accuracy: 0.6560\n",
      "Epoch 79/300\n",
      "25/25 [==============================] - 7s 285ms/step - loss: 0.6188 - accuracy: 0.6844 - val_loss: 0.6391 - val_accuracy: 0.6560\n",
      "Epoch 80/300\n",
      "25/25 [==============================] - 7s 281ms/step - loss: 0.6308 - accuracy: 0.6691 - val_loss: 0.6390 - val_accuracy: 0.6560\n",
      "Epoch 81/300\n",
      "25/25 [==============================] - 7s 286ms/step - loss: 0.6322 - accuracy: 0.6672 - val_loss: 0.6390 - val_accuracy: 0.6560\n",
      "Epoch 82/300\n",
      "25/25 [==============================] - 7s 285ms/step - loss: 0.6353 - accuracy: 0.6632 - val_loss: 0.6388 - val_accuracy: 0.6560\n",
      "Epoch 83/300\n",
      "25/25 [==============================] - 7s 282ms/step - loss: 0.6378 - accuracy: 0.6578 - val_loss: 0.6389 - val_accuracy: 0.6560\n",
      "Epoch 84/300\n",
      "25/25 [==============================] - 7s 286ms/step - loss: 0.6424 - accuracy: 0.6509 - val_loss: 0.6390 - val_accuracy: 0.6560\n",
      "Epoch 85/300\n",
      "25/25 [==============================] - 7s 285ms/step - loss: 0.6318 - accuracy: 0.6640 - val_loss: 0.6384 - val_accuracy: 0.6560\n",
      "Epoch 86/300\n",
      "25/25 [==============================] - 7s 281ms/step - loss: 0.6361 - accuracy: 0.6581 - val_loss: 0.6387 - val_accuracy: 0.6560\n",
      "Epoch 87/300\n",
      "25/25 [==============================] - 7s 284ms/step - loss: 0.6325 - accuracy: 0.6648 - val_loss: 0.6380 - val_accuracy: 0.6560\n",
      "Epoch 88/300\n",
      "25/25 [==============================] - 7s 282ms/step - loss: 0.6384 - accuracy: 0.6575 - val_loss: 0.6381 - val_accuracy: 0.6560\n",
      "Epoch 89/300\n",
      "25/25 [==============================] - 7s 285ms/step - loss: 0.6274 - accuracy: 0.6719 - val_loss: 0.6379 - val_accuracy: 0.6560\n",
      "Epoch 90/300\n",
      "25/25 [==============================] - 7s 287ms/step - loss: 0.6387 - accuracy: 0.6562 - val_loss: 0.6382 - val_accuracy: 0.6560\n",
      "Epoch 91/300\n",
      "25/25 [==============================] - 7s 283ms/step - loss: 0.6306 - accuracy: 0.6635 - val_loss: 0.6376 - val_accuracy: 0.6560\n",
      "Epoch 92/300\n",
      "25/25 [==============================] - 7s 292ms/step - loss: 0.6316 - accuracy: 0.6641 - val_loss: 0.6376 - val_accuracy: 0.6560\n",
      "Epoch 93/300\n",
      "25/25 [==============================] - 7s 286ms/step - loss: 0.6260 - accuracy: 0.6709 - val_loss: 0.6373 - val_accuracy: 0.6560\n",
      "Epoch 94/300\n",
      "25/25 [==============================] - 7s 283ms/step - loss: 0.6248 - accuracy: 0.6765 - val_loss: 0.6369 - val_accuracy: 0.6560\n",
      "Epoch 95/300\n",
      "25/25 [==============================] - 7s 289ms/step - loss: 0.6316 - accuracy: 0.6673 - val_loss: 0.6368 - val_accuracy: 0.6560\n",
      "Epoch 96/300\n",
      "25/25 [==============================] - 7s 288ms/step - loss: 0.6295 - accuracy: 0.6643 - val_loss: 0.6374 - val_accuracy: 0.6560\n",
      "Epoch 97/300\n",
      "25/25 [==============================] - 7s 285ms/step - loss: 0.6170 - accuracy: 0.6819 - val_loss: 0.6364 - val_accuracy: 0.6560\n",
      "Epoch 98/300\n",
      "25/25 [==============================] - 7s 282ms/step - loss: 0.6305 - accuracy: 0.6648 - val_loss: 0.6374 - val_accuracy: 0.6560\n",
      "Epoch 99/300\n",
      "25/25 [==============================] - 7s 281ms/step - loss: 0.6397 - accuracy: 0.6549 - val_loss: 0.6372 - val_accuracy: 0.6560\n",
      "Epoch 100/300\n",
      "25/25 [==============================] - 7s 284ms/step - loss: 0.6386 - accuracy: 0.6542 - val_loss: 0.6363 - val_accuracy: 0.6560\n",
      "Epoch 101/300\n",
      "25/25 [==============================] - 7s 282ms/step - loss: 0.6241 - accuracy: 0.6715 - val_loss: 0.6353 - val_accuracy: 0.6560\n",
      "Epoch 102/300\n",
      "25/25 [==============================] - 7s 283ms/step - loss: 0.6282 - accuracy: 0.6661 - val_loss: 0.6356 - val_accuracy: 0.6560\n",
      "Epoch 103/300\n",
      "25/25 [==============================] - 7s 282ms/step - loss: 0.6272 - accuracy: 0.6680 - val_loss: 0.6359 - val_accuracy: 0.6560\n",
      "Epoch 104/300\n",
      "25/25 [==============================] - 7s 285ms/step - loss: 0.6356 - accuracy: 0.6554 - val_loss: 0.6362 - val_accuracy: 0.6560\n",
      "Epoch 105/300\n",
      "25/25 [==============================] - 7s 285ms/step - loss: 0.6263 - accuracy: 0.6661 - val_loss: 0.6347 - val_accuracy: 0.6560\n",
      "Epoch 106/300\n",
      "25/25 [==============================] - 7s 281ms/step - loss: 0.6281 - accuracy: 0.6639 - val_loss: 0.6341 - val_accuracy: 0.6560\n",
      "Epoch 107/300\n",
      "25/25 [==============================] - 7s 278ms/step - loss: 0.6219 - accuracy: 0.6735 - val_loss: 0.6343 - val_accuracy: 0.6560\n",
      "Epoch 108/300\n",
      "25/25 [==============================] - 7s 282ms/step - loss: 0.6432 - accuracy: 0.6466 - val_loss: 0.6396 - val_accuracy: 0.6560\n",
      "Epoch 109/300\n",
      "25/25 [==============================] - 7s 284ms/step - loss: 0.6307 - accuracy: 0.6636 - val_loss: 0.6335 - val_accuracy: 0.6560\n",
      "Epoch 110/300\n",
      "25/25 [==============================] - 7s 283ms/step - loss: 0.6352 - accuracy: 0.6545 - val_loss: 0.6350 - val_accuracy: 0.6560\n",
      "Epoch 111/300\n",
      "25/25 [==============================] - 7s 282ms/step - loss: 0.6279 - accuracy: 0.6653 - val_loss: 0.6330 - val_accuracy: 0.6560\n",
      "Epoch 112/300\n",
      "25/25 [==============================] - 7s 284ms/step - loss: 0.6339 - accuracy: 0.6561 - val_loss: 0.6343 - val_accuracy: 0.6560\n",
      "Epoch 113/300\n",
      "25/25 [==============================] - 7s 288ms/step - loss: 0.6231 - accuracy: 0.6694 - val_loss: 0.6324 - val_accuracy: 0.6560\n",
      "Epoch 114/300\n",
      "25/25 [==============================] - 7s 282ms/step - loss: 0.6334 - accuracy: 0.6518 - val_loss: 0.6334 - val_accuracy: 0.6560\n"
     ]
    },
    {
     "name": "stdout",
     "output_type": "stream",
     "text": [
      "Epoch 115/300\n",
      "25/25 [==============================] - 7s 279ms/step - loss: 0.6137 - accuracy: 0.6755 - val_loss: 0.6315 - val_accuracy: 0.6560\n",
      "Epoch 116/300\n",
      "25/25 [==============================] - 7s 281ms/step - loss: 0.6220 - accuracy: 0.6701 - val_loss: 0.6309 - val_accuracy: 0.6560\n",
      "Epoch 117/300\n",
      "25/25 [==============================] - 7s 281ms/step - loss: 0.6241 - accuracy: 0.6645 - val_loss: 0.6304 - val_accuracy: 0.6560\n",
      "Epoch 118/300\n",
      "25/25 [==============================] - 7s 283ms/step - loss: 0.6177 - accuracy: 0.6767 - val_loss: 0.6299 - val_accuracy: 0.6560\n",
      "Epoch 119/300\n",
      "25/25 [==============================] - 7s 277ms/step - loss: 0.6245 - accuracy: 0.6644 - val_loss: 0.6303 - val_accuracy: 0.6560\n",
      "Epoch 120/300\n",
      "25/25 [==============================] - 7s 281ms/step - loss: 0.6157 - accuracy: 0.6743 - val_loss: 0.6286 - val_accuracy: 0.6560\n",
      "Epoch 121/300\n",
      "25/25 [==============================] - 7s 282ms/step - loss: 0.6182 - accuracy: 0.6677 - val_loss: 0.6283 - val_accuracy: 0.6560\n",
      "Epoch 122/300\n",
      "25/25 [==============================] - 7s 283ms/step - loss: 0.6236 - accuracy: 0.6663 - val_loss: 0.6288 - val_accuracy: 0.6560\n",
      "Epoch 123/300\n",
      "25/25 [==============================] - 7s 281ms/step - loss: 0.6265 - accuracy: 0.6548 - val_loss: 0.6286 - val_accuracy: 0.6560\n",
      "Epoch 124/300\n",
      "25/25 [==============================] - 7s 283ms/step - loss: 0.6255 - accuracy: 0.6552 - val_loss: 0.6285 - val_accuracy: 0.6560\n",
      "Epoch 125/300\n",
      "25/25 [==============================] - 7s 281ms/step - loss: 0.6231 - accuracy: 0.6645 - val_loss: 0.6274 - val_accuracy: 0.6560\n",
      "Epoch 126/300\n",
      "25/25 [==============================] - 7s 281ms/step - loss: 0.6242 - accuracy: 0.6589 - val_loss: 0.6265 - val_accuracy: 0.6560\n",
      "Epoch 127/300\n",
      "25/25 [==============================] - 7s 280ms/step - loss: 0.6200 - accuracy: 0.6698 - val_loss: 0.6256 - val_accuracy: 0.6560\n",
      "Epoch 128/300\n",
      "25/25 [==============================] - 7s 289ms/step - loss: 0.6293 - accuracy: 0.6572 - val_loss: 0.6256 - val_accuracy: 0.6560\n",
      "Epoch 129/300\n",
      "25/25 [==============================] - 7s 287ms/step - loss: 0.6262 - accuracy: 0.6589 - val_loss: 0.6262 - val_accuracy: 0.6560\n",
      "Epoch 130/300\n",
      "25/25 [==============================] - 7s 288ms/step - loss: 0.6165 - accuracy: 0.6652 - val_loss: 0.6247 - val_accuracy: 0.6560\n",
      "Epoch 131/300\n",
      "25/25 [==============================] - 7s 286ms/step - loss: 0.6251 - accuracy: 0.6542 - val_loss: 0.6245 - val_accuracy: 0.6560\n",
      "Epoch 132/300\n",
      "25/25 [==============================] - 7s 282ms/step - loss: 0.6128 - accuracy: 0.6704 - val_loss: 0.6243 - val_accuracy: 0.6560\n",
      "Epoch 133/300\n",
      "25/25 [==============================] - 7s 284ms/step - loss: 0.6174 - accuracy: 0.6690 - val_loss: 0.6242 - val_accuracy: 0.6560\n",
      "Epoch 134/300\n",
      "25/25 [==============================] - 7s 286ms/step - loss: 0.6197 - accuracy: 0.6571 - val_loss: 0.6241 - val_accuracy: 0.6560\n",
      "Epoch 135/300\n",
      "25/25 [==============================] - 7s 284ms/step - loss: 0.6167 - accuracy: 0.6575 - val_loss: 0.6240 - val_accuracy: 0.6560\n",
      "Epoch 136/300\n",
      "25/25 [==============================] - 7s 285ms/step - loss: 0.6077 - accuracy: 0.6724 - val_loss: 0.6233 - val_accuracy: 0.6560\n",
      "Epoch 137/300\n",
      "25/25 [==============================] - 7s 283ms/step - loss: 0.6164 - accuracy: 0.6675 - val_loss: 0.6246 - val_accuracy: 0.6560\n",
      "Epoch 138/300\n",
      "25/25 [==============================] - 7s 284ms/step - loss: 0.6230 - accuracy: 0.6547 - val_loss: 0.6232 - val_accuracy: 0.6560\n",
      "Epoch 139/300\n",
      "25/25 [==============================] - 7s 285ms/step - loss: 0.6162 - accuracy: 0.6668 - val_loss: 0.6259 - val_accuracy: 0.6560\n",
      "Epoch 140/300\n",
      "25/25 [==============================] - 7s 289ms/step - loss: 0.6075 - accuracy: 0.6818 - val_loss: 0.6236 - val_accuracy: 0.6560\n",
      "Epoch 141/300\n",
      "25/25 [==============================] - 7s 285ms/step - loss: 0.6155 - accuracy: 0.6687 - val_loss: 0.6226 - val_accuracy: 0.6560\n",
      "Epoch 142/300\n",
      "25/25 [==============================] - 7s 285ms/step - loss: 0.6097 - accuracy: 0.6718 - val_loss: 0.6227 - val_accuracy: 0.6560\n",
      "Epoch 143/300\n",
      "25/25 [==============================] - 7s 286ms/step - loss: 0.6212 - accuracy: 0.6614 - val_loss: 0.6276 - val_accuracy: 0.6560\n",
      "Epoch 144/300\n",
      "25/25 [==============================] - 7s 285ms/step - loss: 0.6212 - accuracy: 0.6623 - val_loss: 0.6225 - val_accuracy: 0.6560\n",
      "Epoch 145/300\n",
      "25/25 [==============================] - 7s 287ms/step - loss: 0.6114 - accuracy: 0.6659 - val_loss: 0.6244 - val_accuracy: 0.6560\n",
      "Epoch 146/300\n",
      "25/25 [==============================] - 7s 293ms/step - loss: 0.6077 - accuracy: 0.6747 - val_loss: 0.6221 - val_accuracy: 0.6560\n",
      "Epoch 147/300\n",
      "25/25 [==============================] - 7s 286ms/step - loss: 0.6158 - accuracy: 0.6589 - val_loss: 0.6237 - val_accuracy: 0.6560\n",
      "Epoch 148/300\n",
      "25/25 [==============================] - 7s 283ms/step - loss: 0.6192 - accuracy: 0.6680 - val_loss: 0.6225 - val_accuracy: 0.6560\n",
      "Epoch 149/300\n",
      "25/25 [==============================] - 7s 281ms/step - loss: 0.6160 - accuracy: 0.6588 - val_loss: 0.6220 - val_accuracy: 0.6560\n",
      "Epoch 150/300\n",
      "25/25 [==============================] - 7s 286ms/step - loss: 0.6101 - accuracy: 0.6692 - val_loss: 0.6243 - val_accuracy: 0.6560\n",
      "Epoch 151/300\n",
      "25/25 [==============================] - 7s 287ms/step - loss: 0.6303 - accuracy: 0.6411 - val_loss: 0.6275 - val_accuracy: 0.6560\n",
      "Epoch 152/300\n",
      "25/25 [==============================] - 7s 290ms/step - loss: 0.6173 - accuracy: 0.6607 - val_loss: 0.6225 - val_accuracy: 0.6560\n",
      "Epoch 153/300\n",
      "25/25 [==============================] - 7s 289ms/step - loss: 0.6244 - accuracy: 0.6526 - val_loss: 0.6238 - val_accuracy: 0.6560\n",
      "Epoch 154/300\n",
      "25/25 [==============================] - 7s 286ms/step - loss: 0.6148 - accuracy: 0.6666 - val_loss: 0.6222 - val_accuracy: 0.6560\n",
      "Epoch 155/300\n",
      "25/25 [==============================] - 7s 288ms/step - loss: 0.6112 - accuracy: 0.6671 - val_loss: 0.6224 - val_accuracy: 0.6560\n",
      "Epoch 156/300\n",
      "25/25 [==============================] - 7s 288ms/step - loss: 0.6122 - accuracy: 0.6681 - val_loss: 0.6233 - val_accuracy: 0.6560\n",
      "Epoch 157/300\n",
      "25/25 [==============================] - 7s 283ms/step - loss: 0.6173 - accuracy: 0.6659 - val_loss: 0.6216 - val_accuracy: 0.6560\n",
      "Epoch 158/300\n",
      "25/25 [==============================] - 7s 288ms/step - loss: 0.6187 - accuracy: 0.6635 - val_loss: 0.6221 - val_accuracy: 0.6560\n",
      "Epoch 159/300\n",
      "25/25 [==============================] - 7s 287ms/step - loss: 0.6155 - accuracy: 0.6645 - val_loss: 0.6214 - val_accuracy: 0.6560\n",
      "Epoch 160/300\n",
      "25/25 [==============================] - 7s 287ms/step - loss: 0.6080 - accuracy: 0.6720 - val_loss: 0.6258 - val_accuracy: 0.6560\n",
      "Epoch 161/300\n",
      "25/25 [==============================] - 7s 285ms/step - loss: 0.6196 - accuracy: 0.6541 - val_loss: 0.6260 - val_accuracy: 0.6560\n",
      "Epoch 162/300\n",
      "25/25 [==============================] - 7s 285ms/step - loss: 0.6015 - accuracy: 0.6737 - val_loss: 0.6236 - val_accuracy: 0.6560\n",
      "Epoch 163/300\n",
      "25/25 [==============================] - 8s 301ms/step - loss: 0.6059 - accuracy: 0.6716 - val_loss: 0.6219 - val_accuracy: 0.6560\n",
      "Epoch 164/300\n",
      "25/25 [==============================] - 7s 289ms/step - loss: 0.6094 - accuracy: 0.6662 - val_loss: 0.6216 - val_accuracy: 0.6560\n",
      "Epoch 165/300\n",
      "25/25 [==============================] - 7s 291ms/step - loss: 0.6171 - accuracy: 0.6624 - val_loss: 0.6242 - val_accuracy: 0.6560\n",
      "Epoch 166/300\n",
      "25/25 [==============================] - 7s 286ms/step - loss: 0.6316 - accuracy: 0.6469 - val_loss: 0.6261 - val_accuracy: 0.6560\n",
      "Epoch 167/300\n",
      "25/25 [==============================] - 7s 290ms/step - loss: 0.6275 - accuracy: 0.6509 - val_loss: 0.6231 - val_accuracy: 0.6560\n",
      "Epoch 168/300\n",
      "25/25 [==============================] - 7s 288ms/step - loss: 0.6148 - accuracy: 0.6648 - val_loss: 0.6215 - val_accuracy: 0.6560\n",
      "Epoch 169/300\n",
      "25/25 [==============================] - 7s 287ms/step - loss: 0.6000 - accuracy: 0.6855 - val_loss: 0.6244 - val_accuracy: 0.6560\n",
      "Epoch 170/300\n",
      "25/25 [==============================] - 7s 284ms/step - loss: 0.6174 - accuracy: 0.6536 - val_loss: 0.6216 - val_accuracy: 0.6560\n",
      "Epoch 171/300\n"
     ]
    },
    {
     "name": "stdout",
     "output_type": "stream",
     "text": [
      "25/25 [==============================] - 7s 288ms/step - loss: 0.6153 - accuracy: 0.6571 - val_loss: 0.6262 - val_accuracy: 0.6560\n",
      "Epoch 172/300\n",
      "25/25 [==============================] - 7s 287ms/step - loss: 0.6080 - accuracy: 0.6670 - val_loss: 0.6210 - val_accuracy: 0.6560\n",
      "Epoch 173/300\n",
      "25/25 [==============================] - 7s 282ms/step - loss: 0.6084 - accuracy: 0.6626 - val_loss: 0.6213 - val_accuracy: 0.6560\n",
      "Epoch 174/300\n",
      "25/25 [==============================] - 7s 283ms/step - loss: 0.6167 - accuracy: 0.6568 - val_loss: 0.6217 - val_accuracy: 0.6560\n",
      "Epoch 175/300\n",
      "25/25 [==============================] - 7s 285ms/step - loss: 0.6055 - accuracy: 0.6669 - val_loss: 0.6222 - val_accuracy: 0.6560\n",
      "Epoch 176/300\n",
      "25/25 [==============================] - 7s 284ms/step - loss: 0.6146 - accuracy: 0.6652 - val_loss: 0.6216 - val_accuracy: 0.6560\n",
      "Epoch 177/300\n",
      "25/25 [==============================] - 7s 285ms/step - loss: 0.6163 - accuracy: 0.6594 - val_loss: 0.6226 - val_accuracy: 0.6560\n",
      "Epoch 178/300\n",
      "25/25 [==============================] - 7s 283ms/step - loss: 0.6155 - accuracy: 0.6558 - val_loss: 0.6226 - val_accuracy: 0.6560\n",
      "Epoch 179/300\n",
      "25/25 [==============================] - 7s 285ms/step - loss: 0.6167 - accuracy: 0.6579 - val_loss: 0.6227 - val_accuracy: 0.6560\n",
      "Epoch 180/300\n",
      "25/25 [==============================] - 7s 290ms/step - loss: 0.6053 - accuracy: 0.6781 - val_loss: 0.6221 - val_accuracy: 0.6560\n",
      "Epoch 181/300\n",
      "25/25 [==============================] - 7s 284ms/step - loss: 0.6031 - accuracy: 0.6742 - val_loss: 0.6246 - val_accuracy: 0.6560\n",
      "Epoch 182/300\n",
      "25/25 [==============================] - 7s 284ms/step - loss: 0.6168 - accuracy: 0.6594 - val_loss: 0.6211 - val_accuracy: 0.6560\n",
      "Epoch 183/300\n",
      "25/25 [==============================] - 7s 281ms/step - loss: 0.6050 - accuracy: 0.6768 - val_loss: 0.6214 - val_accuracy: 0.6560\n",
      "Epoch 184/300\n",
      "25/25 [==============================] - 7s 281ms/step - loss: 0.6070 - accuracy: 0.6752 - val_loss: 0.6214 - val_accuracy: 0.6560\n",
      "Epoch 185/300\n",
      "25/25 [==============================] - 7s 283ms/step - loss: 0.6072 - accuracy: 0.6661 - val_loss: 0.6310 - val_accuracy: 0.6560\n",
      "Epoch 186/300\n",
      "25/25 [==============================] - 7s 286ms/step - loss: 0.6145 - accuracy: 0.6676 - val_loss: 0.6215 - val_accuracy: 0.6560\n",
      "Epoch 187/300\n",
      "25/25 [==============================] - 7s 284ms/step - loss: 0.6081 - accuracy: 0.6614 - val_loss: 0.6217 - val_accuracy: 0.6560\n"
     ]
    }
   ],
   "source": [
    "early_stop = keras.callbacks.EarlyStopping(monitor='val_loss', patience=15)\n",
    "history = model.fit(Xt[500:],\n",
    "                    yt[500:],\n",
    "                    epochs=300,\n",
    "                    batch_size=100,\n",
    "                    validation_data=(Xt[:500], yt[:500]),\n",
    "                    verbose=1, callbacks=[early_stop])"
   ]
  },
  {
   "cell_type": "code",
   "execution_count": 21,
   "id": "e7b4156c",
   "metadata": {},
   "outputs": [
    {
     "name": "stdout",
     "output_type": "stream",
     "text": [
      "40/40 [==============================] - 1s 22ms/step - loss: 0.6051 - accuracy: 0.6762\n",
      "Final Test Set Results: [0.605147123336792, 0.6761904954910278]\n"
     ]
    }
   ],
   "source": [
    "results = model.evaluate(Xtt, ytt)\n",
    "print(\"Final Test Set Results: {}\".format(results))"
   ]
  },
  {
   "cell_type": "code",
   "execution_count": null,
   "id": "0b35f81c",
   "metadata": {},
   "outputs": [],
   "source": []
  },
  {
   "cell_type": "code",
   "execution_count": 22,
   "id": "f4ee0be9",
   "metadata": {},
   "outputs": [],
   "source": [
    "Xt_N = Xt.astype('float32')\n",
    "Xtt_N = Xtt.astype('float32')"
   ]
  },
  {
   "cell_type": "code",
   "execution_count": 24,
   "id": "53af7f31",
   "metadata": {},
   "outputs": [
    {
     "ename": "ValueError",
     "evalue": "Input 0 of layer conv2d is incompatible with the layer: : expected min_ndim=4, found ndim=3. Full shape received: (None, 24260, 1)",
     "output_type": "error",
     "traceback": [
      "\u001b[1;31m---------------------------------------------------------------------------\u001b[0m",
      "\u001b[1;31mValueError\u001b[0m                                Traceback (most recent call last)",
      "\u001b[1;32m<ipython-input-24-cf342b53e9bf>\u001b[0m in \u001b[0;36m<module>\u001b[1;34m\u001b[0m\n\u001b[0;32m      8\u001b[0m \u001b[1;31m# definir le modèle RNC\u001b[0m\u001b[1;33m\u001b[0m\u001b[1;33m\u001b[0m\u001b[1;33m\u001b[0m\u001b[0m\n\u001b[0;32m      9\u001b[0m \u001b[0mmodel\u001b[0m \u001b[1;33m=\u001b[0m \u001b[0mSequential\u001b[0m\u001b[1;33m(\u001b[0m\u001b[1;33m)\u001b[0m\u001b[1;33m\u001b[0m\u001b[1;33m\u001b[0m\u001b[0m\n\u001b[1;32m---> 10\u001b[1;33m \u001b[0mmodel\u001b[0m\u001b[1;33m.\u001b[0m\u001b[0madd\u001b[0m\u001b[1;33m(\u001b[0m\u001b[0mConv2D\u001b[0m\u001b[1;33m(\u001b[0m\u001b[1;36m32\u001b[0m\u001b[1;33m,\u001b[0m \u001b[1;33m(\u001b[0m\u001b[1;36m3\u001b[0m\u001b[1;33m,\u001b[0m \u001b[1;36m3\u001b[0m\u001b[1;33m)\u001b[0m\u001b[1;33m,\u001b[0m \u001b[0mactivation\u001b[0m\u001b[1;33m=\u001b[0m\u001b[1;34m'relu'\u001b[0m\u001b[1;33m,\u001b[0m \u001b[0mkernel_initializer\u001b[0m\u001b[1;33m=\u001b[0m\u001b[1;34m'he_uniform'\u001b[0m\u001b[1;33m,\u001b[0m \u001b[0minput_shape\u001b[0m\u001b[1;33m=\u001b[0m\u001b[1;33m(\u001b[0m\u001b[1;36m24260\u001b[0m\u001b[1;33m,\u001b[0m \u001b[1;36m1\u001b[0m\u001b[1;33m)\u001b[0m\u001b[1;33m)\u001b[0m\u001b[1;33m)\u001b[0m\u001b[1;33m\u001b[0m\u001b[1;33m\u001b[0m\u001b[0m\n\u001b[0m\u001b[0;32m     11\u001b[0m \u001b[0mmodel\u001b[0m\u001b[1;33m.\u001b[0m\u001b[0madd\u001b[0m\u001b[1;33m(\u001b[0m\u001b[0mMaxPooling2D\u001b[0m\u001b[1;33m(\u001b[0m\u001b[1;33m(\u001b[0m\u001b[1;36m2\u001b[0m\u001b[1;33m,\u001b[0m \u001b[1;36m2\u001b[0m\u001b[1;33m)\u001b[0m\u001b[1;33m)\u001b[0m\u001b[1;33m)\u001b[0m\u001b[1;33m\u001b[0m\u001b[1;33m\u001b[0m\u001b[0m\n\u001b[0;32m     12\u001b[0m \u001b[0mmodel\u001b[0m\u001b[1;33m.\u001b[0m\u001b[0madd\u001b[0m\u001b[1;33m(\u001b[0m\u001b[0mFlatten\u001b[0m\u001b[1;33m(\u001b[0m\u001b[1;33m)\u001b[0m\u001b[1;33m)\u001b[0m\u001b[1;33m\u001b[0m\u001b[1;33m\u001b[0m\u001b[0m\n",
      "\u001b[1;32m~\\AppData\\Roaming\\Python\\Python39\\site-packages\\tensorflow\\python\\training\\tracking\\base.py\u001b[0m in \u001b[0;36m_method_wrapper\u001b[1;34m(self, *args, **kwargs)\u001b[0m\n\u001b[0;32m    520\u001b[0m     \u001b[0mself\u001b[0m\u001b[1;33m.\u001b[0m\u001b[0m_self_setattr_tracking\u001b[0m \u001b[1;33m=\u001b[0m \u001b[1;32mFalse\u001b[0m  \u001b[1;31m# pylint: disable=protected-access\u001b[0m\u001b[1;33m\u001b[0m\u001b[1;33m\u001b[0m\u001b[0m\n\u001b[0;32m    521\u001b[0m     \u001b[1;32mtry\u001b[0m\u001b[1;33m:\u001b[0m\u001b[1;33m\u001b[0m\u001b[1;33m\u001b[0m\u001b[0m\n\u001b[1;32m--> 522\u001b[1;33m       \u001b[0mresult\u001b[0m \u001b[1;33m=\u001b[0m \u001b[0mmethod\u001b[0m\u001b[1;33m(\u001b[0m\u001b[0mself\u001b[0m\u001b[1;33m,\u001b[0m \u001b[1;33m*\u001b[0m\u001b[0margs\u001b[0m\u001b[1;33m,\u001b[0m \u001b[1;33m**\u001b[0m\u001b[0mkwargs\u001b[0m\u001b[1;33m)\u001b[0m\u001b[1;33m\u001b[0m\u001b[1;33m\u001b[0m\u001b[0m\n\u001b[0m\u001b[0;32m    523\u001b[0m     \u001b[1;32mfinally\u001b[0m\u001b[1;33m:\u001b[0m\u001b[1;33m\u001b[0m\u001b[1;33m\u001b[0m\u001b[0m\n\u001b[0;32m    524\u001b[0m       \u001b[0mself\u001b[0m\u001b[1;33m.\u001b[0m\u001b[0m_self_setattr_tracking\u001b[0m \u001b[1;33m=\u001b[0m \u001b[0mprevious_value\u001b[0m  \u001b[1;31m# pylint: disable=protected-access\u001b[0m\u001b[1;33m\u001b[0m\u001b[1;33m\u001b[0m\u001b[0m\n",
      "\u001b[1;32m~\\AppData\\Roaming\\Python\\Python39\\site-packages\\tensorflow\\python\\keras\\engine\\sequential.py\u001b[0m in \u001b[0;36madd\u001b[1;34m(self, layer)\u001b[0m\n\u001b[0;32m    211\u001b[0m           \u001b[1;31m# and create the node connecting the current layer\u001b[0m\u001b[1;33m\u001b[0m\u001b[1;33m\u001b[0m\u001b[1;33m\u001b[0m\u001b[0m\n\u001b[0;32m    212\u001b[0m           \u001b[1;31m# to the input layer we just created.\u001b[0m\u001b[1;33m\u001b[0m\u001b[1;33m\u001b[0m\u001b[1;33m\u001b[0m\u001b[0m\n\u001b[1;32m--> 213\u001b[1;33m           \u001b[0mlayer\u001b[0m\u001b[1;33m(\u001b[0m\u001b[0mx\u001b[0m\u001b[1;33m)\u001b[0m\u001b[1;33m\u001b[0m\u001b[1;33m\u001b[0m\u001b[0m\n\u001b[0m\u001b[0;32m    214\u001b[0m           \u001b[0mset_inputs\u001b[0m \u001b[1;33m=\u001b[0m \u001b[1;32mTrue\u001b[0m\u001b[1;33m\u001b[0m\u001b[1;33m\u001b[0m\u001b[0m\n\u001b[0;32m    215\u001b[0m \u001b[1;33m\u001b[0m\u001b[0m\n",
      "\u001b[1;32m~\\AppData\\Roaming\\Python\\Python39\\site-packages\\tensorflow\\python\\keras\\engine\\base_layer.py\u001b[0m in \u001b[0;36m__call__\u001b[1;34m(self, *args, **kwargs)\u001b[0m\n\u001b[0;32m    967\u001b[0m     \u001b[1;31m# >> model = tf.keras.Model(inputs, outputs)\u001b[0m\u001b[1;33m\u001b[0m\u001b[1;33m\u001b[0m\u001b[1;33m\u001b[0m\u001b[0m\n\u001b[0;32m    968\u001b[0m     \u001b[1;32mif\u001b[0m \u001b[0m_in_functional_construction_mode\u001b[0m\u001b[1;33m(\u001b[0m\u001b[0mself\u001b[0m\u001b[1;33m,\u001b[0m \u001b[0minputs\u001b[0m\u001b[1;33m,\u001b[0m \u001b[0margs\u001b[0m\u001b[1;33m,\u001b[0m \u001b[0mkwargs\u001b[0m\u001b[1;33m,\u001b[0m \u001b[0minput_list\u001b[0m\u001b[1;33m)\u001b[0m\u001b[1;33m:\u001b[0m\u001b[1;33m\u001b[0m\u001b[1;33m\u001b[0m\u001b[0m\n\u001b[1;32m--> 969\u001b[1;33m       return self._functional_construction_call(inputs, args, kwargs,\n\u001b[0m\u001b[0;32m    970\u001b[0m                                                 input_list)\n\u001b[0;32m    971\u001b[0m \u001b[1;33m\u001b[0m\u001b[0m\n",
      "\u001b[1;32m~\\AppData\\Roaming\\Python\\Python39\\site-packages\\tensorflow\\python\\keras\\engine\\base_layer.py\u001b[0m in \u001b[0;36m_functional_construction_call\u001b[1;34m(self, inputs, args, kwargs, input_list)\u001b[0m\n\u001b[0;32m   1105\u001b[0m         layer=self, inputs=inputs, build_graph=True, training=training_value):\n\u001b[0;32m   1106\u001b[0m       \u001b[1;31m# Check input assumptions set after layer building, e.g. input shape.\u001b[0m\u001b[1;33m\u001b[0m\u001b[1;33m\u001b[0m\u001b[1;33m\u001b[0m\u001b[0m\n\u001b[1;32m-> 1107\u001b[1;33m       outputs = self._keras_tensor_symbolic_call(\n\u001b[0m\u001b[0;32m   1108\u001b[0m           inputs, input_masks, args, kwargs)\n\u001b[0;32m   1109\u001b[0m \u001b[1;33m\u001b[0m\u001b[0m\n",
      "\u001b[1;32m~\\AppData\\Roaming\\Python\\Python39\\site-packages\\tensorflow\\python\\keras\\engine\\base_layer.py\u001b[0m in \u001b[0;36m_keras_tensor_symbolic_call\u001b[1;34m(self, inputs, input_masks, args, kwargs)\u001b[0m\n\u001b[0;32m    838\u001b[0m       \u001b[1;32mreturn\u001b[0m \u001b[0mnest\u001b[0m\u001b[1;33m.\u001b[0m\u001b[0mmap_structure\u001b[0m\u001b[1;33m(\u001b[0m\u001b[0mkeras_tensor\u001b[0m\u001b[1;33m.\u001b[0m\u001b[0mKerasTensor\u001b[0m\u001b[1;33m,\u001b[0m \u001b[0moutput_signature\u001b[0m\u001b[1;33m)\u001b[0m\u001b[1;33m\u001b[0m\u001b[1;33m\u001b[0m\u001b[0m\n\u001b[0;32m    839\u001b[0m     \u001b[1;32melse\u001b[0m\u001b[1;33m:\u001b[0m\u001b[1;33m\u001b[0m\u001b[1;33m\u001b[0m\u001b[0m\n\u001b[1;32m--> 840\u001b[1;33m       \u001b[1;32mreturn\u001b[0m \u001b[0mself\u001b[0m\u001b[1;33m.\u001b[0m\u001b[0m_infer_output_signature\u001b[0m\u001b[1;33m(\u001b[0m\u001b[0minputs\u001b[0m\u001b[1;33m,\u001b[0m \u001b[0margs\u001b[0m\u001b[1;33m,\u001b[0m \u001b[0mkwargs\u001b[0m\u001b[1;33m,\u001b[0m \u001b[0minput_masks\u001b[0m\u001b[1;33m)\u001b[0m\u001b[1;33m\u001b[0m\u001b[1;33m\u001b[0m\u001b[0m\n\u001b[0m\u001b[0;32m    841\u001b[0m \u001b[1;33m\u001b[0m\u001b[0m\n\u001b[0;32m    842\u001b[0m   \u001b[1;32mdef\u001b[0m \u001b[0m_infer_output_signature\u001b[0m\u001b[1;33m(\u001b[0m\u001b[0mself\u001b[0m\u001b[1;33m,\u001b[0m \u001b[0minputs\u001b[0m\u001b[1;33m,\u001b[0m \u001b[0margs\u001b[0m\u001b[1;33m,\u001b[0m \u001b[0mkwargs\u001b[0m\u001b[1;33m,\u001b[0m \u001b[0minput_masks\u001b[0m\u001b[1;33m)\u001b[0m\u001b[1;33m:\u001b[0m\u001b[1;33m\u001b[0m\u001b[1;33m\u001b[0m\u001b[0m\n",
      "\u001b[1;32m~\\AppData\\Roaming\\Python\\Python39\\site-packages\\tensorflow\\python\\keras\\engine\\base_layer.py\u001b[0m in \u001b[0;36m_infer_output_signature\u001b[1;34m(self, inputs, args, kwargs, input_masks)\u001b[0m\n\u001b[0;32m    876\u001b[0m           \u001b[1;31m# overridden).\u001b[0m\u001b[1;33m\u001b[0m\u001b[1;33m\u001b[0m\u001b[1;33m\u001b[0m\u001b[0m\n\u001b[0;32m    877\u001b[0m           \u001b[1;31m# TODO(kaftan): do we maybe_build here, or have we already done it?\u001b[0m\u001b[1;33m\u001b[0m\u001b[1;33m\u001b[0m\u001b[1;33m\u001b[0m\u001b[0m\n\u001b[1;32m--> 878\u001b[1;33m           \u001b[0mself\u001b[0m\u001b[1;33m.\u001b[0m\u001b[0m_maybe_build\u001b[0m\u001b[1;33m(\u001b[0m\u001b[0minputs\u001b[0m\u001b[1;33m)\u001b[0m\u001b[1;33m\u001b[0m\u001b[1;33m\u001b[0m\u001b[0m\n\u001b[0m\u001b[0;32m    879\u001b[0m           \u001b[0minputs\u001b[0m \u001b[1;33m=\u001b[0m \u001b[0mself\u001b[0m\u001b[1;33m.\u001b[0m\u001b[0m_maybe_cast_inputs\u001b[0m\u001b[1;33m(\u001b[0m\u001b[0minputs\u001b[0m\u001b[1;33m)\u001b[0m\u001b[1;33m\u001b[0m\u001b[1;33m\u001b[0m\u001b[0m\n\u001b[0;32m    880\u001b[0m           \u001b[0moutputs\u001b[0m \u001b[1;33m=\u001b[0m \u001b[0mcall_fn\u001b[0m\u001b[1;33m(\u001b[0m\u001b[0minputs\u001b[0m\u001b[1;33m,\u001b[0m \u001b[1;33m*\u001b[0m\u001b[0margs\u001b[0m\u001b[1;33m,\u001b[0m \u001b[1;33m**\u001b[0m\u001b[0mkwargs\u001b[0m\u001b[1;33m)\u001b[0m\u001b[1;33m\u001b[0m\u001b[1;33m\u001b[0m\u001b[0m\n",
      "\u001b[1;32m~\\AppData\\Roaming\\Python\\Python39\\site-packages\\tensorflow\\python\\keras\\engine\\base_layer.py\u001b[0m in \u001b[0;36m_maybe_build\u001b[1;34m(self, inputs)\u001b[0m\n\u001b[0;32m   2597\u001b[0m     \u001b[1;31m# Check input assumptions set before layer building, e.g. input rank.\u001b[0m\u001b[1;33m\u001b[0m\u001b[1;33m\u001b[0m\u001b[1;33m\u001b[0m\u001b[0m\n\u001b[0;32m   2598\u001b[0m     \u001b[1;32mif\u001b[0m \u001b[1;32mnot\u001b[0m \u001b[0mself\u001b[0m\u001b[1;33m.\u001b[0m\u001b[0mbuilt\u001b[0m\u001b[1;33m:\u001b[0m\u001b[1;33m\u001b[0m\u001b[1;33m\u001b[0m\u001b[0m\n\u001b[1;32m-> 2599\u001b[1;33m       input_spec.assert_input_compatibility(\n\u001b[0m\u001b[0;32m   2600\u001b[0m           self.input_spec, inputs, self.name)\n\u001b[0;32m   2601\u001b[0m       \u001b[0minput_list\u001b[0m \u001b[1;33m=\u001b[0m \u001b[0mnest\u001b[0m\u001b[1;33m.\u001b[0m\u001b[0mflatten\u001b[0m\u001b[1;33m(\u001b[0m\u001b[0minputs\u001b[0m\u001b[1;33m)\u001b[0m\u001b[1;33m\u001b[0m\u001b[1;33m\u001b[0m\u001b[0m\n",
      "\u001b[1;32m~\\AppData\\Roaming\\Python\\Python39\\site-packages\\tensorflow\\python\\keras\\engine\\input_spec.py\u001b[0m in \u001b[0;36massert_input_compatibility\u001b[1;34m(input_spec, inputs, layer_name)\u001b[0m\n\u001b[0;32m    228\u001b[0m       \u001b[0mndim\u001b[0m \u001b[1;33m=\u001b[0m \u001b[0mx\u001b[0m\u001b[1;33m.\u001b[0m\u001b[0mshape\u001b[0m\u001b[1;33m.\u001b[0m\u001b[0mrank\u001b[0m\u001b[1;33m\u001b[0m\u001b[1;33m\u001b[0m\u001b[0m\n\u001b[0;32m    229\u001b[0m       \u001b[1;32mif\u001b[0m \u001b[0mndim\u001b[0m \u001b[1;32mis\u001b[0m \u001b[1;32mnot\u001b[0m \u001b[1;32mNone\u001b[0m \u001b[1;32mand\u001b[0m \u001b[0mndim\u001b[0m \u001b[1;33m<\u001b[0m \u001b[0mspec\u001b[0m\u001b[1;33m.\u001b[0m\u001b[0mmin_ndim\u001b[0m\u001b[1;33m:\u001b[0m\u001b[1;33m\u001b[0m\u001b[1;33m\u001b[0m\u001b[0m\n\u001b[1;32m--> 230\u001b[1;33m         raise ValueError('Input ' + str(input_index) + ' of layer ' +\n\u001b[0m\u001b[0;32m    231\u001b[0m                          \u001b[0mlayer_name\u001b[0m \u001b[1;33m+\u001b[0m \u001b[1;34m' is incompatible with the layer: '\u001b[0m\u001b[1;33m\u001b[0m\u001b[1;33m\u001b[0m\u001b[0m\n\u001b[0;32m    232\u001b[0m                          \u001b[1;34m': expected min_ndim='\u001b[0m \u001b[1;33m+\u001b[0m \u001b[0mstr\u001b[0m\u001b[1;33m(\u001b[0m\u001b[0mspec\u001b[0m\u001b[1;33m.\u001b[0m\u001b[0mmin_ndim\u001b[0m\u001b[1;33m)\u001b[0m \u001b[1;33m+\u001b[0m\u001b[1;33m\u001b[0m\u001b[1;33m\u001b[0m\u001b[0m\n",
      "\u001b[1;31mValueError\u001b[0m: Input 0 of layer conv2d is incompatible with the layer: : expected min_ndim=4, found ndim=3. Full shape received: (None, 24260, 1)"
     ]
    }
   ],
   "source": [
    "from tensorflow.keras.models import Sequential\n",
    "from tensorflow.keras.layers import Conv2D\n",
    "from tensorflow.keras.layers import MaxPooling2D\n",
    "from tensorflow.keras.layers import Dense\n",
    "from tensorflow.keras.layers import Flatten\n",
    "from tensorflow.keras.optimizers import SGD\n",
    "\n",
    "# definir le modèle RNC\n",
    "model = Sequential()\n",
    "model.add(Conv2D(32, (3, 3), activation='relu', kernel_initializer='he_uniform', input_shape=(24260, 1)))\n",
    "model.add(MaxPooling2D((2, 2)))\n",
    "model.add(Flatten())\n",
    "model.add(Dense(100, activation='relu', kernel_initializer='he_uniform'))\n",
    "model.add(Dense(2, activation='sigmoid'))\n",
    "# compiler le modèle\n",
    "opt = SGD(learning_rate=0.01, momentum=0.9)\n",
    "model.compile(optimizer=opt, loss='categorical_crossentropy', metrics=['accuracy'])\n",
    "\n",
    "# entrainer le modèle\n",
    "model.fit(Xt_N, yt)\n",
    "\n",
    "# evaluaer le modèle\n",
    "_, acc = model.evaluate(Xtt_N, ytt, verbose=0)\n",
    "y_pred4 = np.argmax(model.predict(Xtt_N),axis = 1)\n"
   ]
  },
  {
   "cell_type": "code",
   "execution_count": null,
   "id": "496f1fed",
   "metadata": {},
   "outputs": [],
   "source": [
    "rounded_labels = np.argmax(ytt, axis=1)\n",
    "mc4 = matrice_confusion(rounded_labels, y_pred4)\n",
    "print(\"la matrice de confusion du RNC :\")\n",
    "print(mc4)\n",
    "\n",
    "\n",
    "tf4 = taux_FP(mc4)\n",
    "spec4 = specificite(mc4)\n",
    "\n",
    "roc(rounded_labels, y_pred4)"
   ]
  }
 ],
 "metadata": {
  "kernelspec": {
   "display_name": "Python 3",
   "language": "python",
   "name": "python3"
  },
  "language_info": {
   "codemirror_mode": {
    "name": "ipython",
    "version": 3
   },
   "file_extension": ".py",
   "mimetype": "text/x-python",
   "name": "python",
   "nbconvert_exporter": "python",
   "pygments_lexer": "ipython3",
   "version": "3.9.0"
  }
 },
 "nbformat": 4,
 "nbformat_minor": 5
}
